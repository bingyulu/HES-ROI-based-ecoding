{
 "cells": [
  {
   "cell_type": "code",
   "execution_count": 1,
   "metadata": {},
   "outputs": [],
   "source": [
    "# face size statistic - YRKKH 2400/average in all frames of close shot\n",
    "# face num statistic - YRKKH\n",
    "# overlap statistic - YRKKH 2480/average in all frames of close shot\n",
    "# transition statistic\n",
    "\n",
    "import numpy as np\n",
    "import cv2\n",
    "from PIL import Image\n",
    "import os\n",
    "\n",
    "root_dir = \"/internal-demo3/bingyu/\"\n",
    "video_name = \"YRKKH_3963--20230129192718416--PG--2012/\"\n",
    "blurred_frame_dir = root_dir+\"frames/YRKKH_3963--20230129192718416--PG--2012/\""
   ]
  },
  {
   "cell_type": "code",
   "execution_count": 2,
   "metadata": {},
   "outputs": [
    {
     "ename": "FileNotFoundError",
     "evalue": "[Errno 2] No such file or directory: 'D:/videocodec_source_video/raw_frames/'",
     "output_type": "error",
     "traceback": [
      "\u001b[0;31m---------------------------------------------------------------------------\u001b[0m",
      "\u001b[0;31mFileNotFoundError\u001b[0m                         Traceback (most recent call last)",
      "Cell \u001b[0;32mIn [2], line 2\u001b[0m\n\u001b[1;32m      1\u001b[0m \u001b[38;5;66;03m# get video names\u001b[39;00m\n\u001b[0;32m----> 2\u001b[0m video_names \u001b[38;5;241m=\u001b[39m [dI \u001b[38;5;28;01mfor\u001b[39;00m dI \u001b[38;5;129;01min\u001b[39;00m \u001b[43mos\u001b[49m\u001b[38;5;241;43m.\u001b[39;49m\u001b[43mlistdir\u001b[49m\u001b[43m(\u001b[49m\u001b[38;5;124;43m'\u001b[39;49m\u001b[38;5;124;43mD:/videocodec_source_video/raw_frames/\u001b[39;49m\u001b[38;5;124;43m'\u001b[39;49m\u001b[43m)\u001b[49m]\n\u001b[1;32m      3\u001b[0m \u001b[38;5;28mprint\u001b[39m(video_names)\n",
      "\u001b[0;31mFileNotFoundError\u001b[0m: [Errno 2] No such file or directory: 'D:/videocodec_source_video/raw_frames/'"
     ]
    }
   ],
   "source": [
    "# get video names\n",
    "video_names = [dI for dI in os.listdir('D:/videocodec_source_video/raw_frames/')]\n",
    "print(video_names)"
   ]
  },
  {
   "cell_type": "code",
   "execution_count": 5,
   "metadata": {},
   "outputs": [],
   "source": [
    "# reorginize face detection results\n",
    "video_names = ['YRKKH_2800_5min_360p', 'SS_clip_360p'] #'YRKKH_2699--20180722204822056--PG--2012', 'YHM_1530--20180724151448127--PG--2012', 'ISHQBAAZ_592--20180724214511411--PG--2012', 'KKBW_93--20180724010609002--PG--2012', 'YRKKH_2698--20180722045900125--PG--2012']\n",
    "import pickle\n",
    "from operator import itemgetter\n",
    "face_det_result_dir = '/large/aws/youqiang/ml-based-encoding-improvement/testsets/face_result.txt'\n",
    "for i in range(len(video_names)):\n",
    "    video_name = video_names[i]\n",
    "    video_det_result = []\n",
    "    with open(face_det_result_dir, 'r') as f:\n",
    "        det_result = f.readline()\n",
    "        while det_result:\n",
    "            if video_name in det_result:\n",
    "                det_result = det_result.split('.png')\n",
    "                frame_id = int(det_result[0].split('/')[-1])\n",
    "                det_face = det_result[1].split('] [')\n",
    "                bbox = eval(det_face[0]+']')\n",
    "                scores = eval('['+det_face[1])\n",
    "                video_det_result.append([frame_id, bbox, scores])\n",
    "            det_result = f.readline()\n",
    "    video_det_result = sorted(video_det_result, key=itemgetter(0))\n",
    "    # print(video_det_result)\n",
    "    # break\n",
    "    with open(os.path.join('/home/bingyu/bingyu/',video_name+'.pkl'), 'wb') as f:\n",
    "        pickle.dump(video_det_result, f)\n",
    "    # with open(os.path.join('D:/facedet/',video_name+'.pkl'), 'rb') as f:\n",
    "    #     temp = pickle.load(f)\n",
    "    #     print(temp[0])\n",
    "    # break"
   ]
  },
  {
   "cell_type": "code",
   "execution_count": 2,
   "metadata": {},
   "outputs": [
    {
     "name": "stdout",
     "output_type": "stream",
     "text": [
      "2804\n"
     ]
    }
   ],
   "source": [
    "# frames that need to be blurred\n",
    "video_names = ['NUKSHSB_162--20230128192154349--PG--2012']#, 'SS_clip_360p'] #'YRKKH_2699--20180722204822056--PG--2012', 'YHM_1530--20180724151448127--PG--2012', 'ISHQBAAZ_592--20180724214511411--PG--2012', 'KKBW_93--20180724010609002--PG--2012', 'YRKKH_2698--20180722045900125--PG--2012']\n",
    "\n",
    "def get_noblur_frame(video_name):\n",
    "    shot_cls_dir = root_dir + \"shot_cls_result/\"+video_name+\"_scale.txt\"\n",
    "    shot_dir = root_dir + \"shot_cls_result/\"+video_name+\"_0.1.txt\"\n",
    "    \n",
    "    f_cls = open(shot_cls_dir)\n",
    "    cls_label = f_cls.readline()\n",
    "    labels = []\n",
    "    frame_ind = []\n",
    "    while cls_label:\n",
    "        labels.append(int(cls_label.split(',')[0]))\n",
    "        cls_label = f_cls.readline()\n",
    "    f_cls.close()\n",
    "    \n",
    "    f_shot = open(shot_dir, encoding='utf-8')\n",
    "    shot_ = f_shot.readline()\n",
    "    for i in range(len(labels)):\n",
    "        if labels[i] != 0:\n",
    "            shot_ = shot_.strip('\\n')\n",
    "            shot_list = shot_.split('\\t')\n",
    "            frame_range = np.arange(int(shot_list[0])+1, int(shot_list[1])+2)\n",
    "            frame_ind.extend(list(frame_range))\n",
    "        shot_ = f_shot.readline()\n",
    "    f_shot.close()\n",
    "    \n",
    "    return frame_ind\n",
    "\n",
    "video_noblur_frames = []\n",
    "for video_name in video_names:\n",
    "    noblur_frame = get_noblur_frame(video_name)\n",
    "    video_noblur_frames.append(noblur_frame)\n",
    "    \n",
    "print(len(video_noblur_frames[0]))"
   ]
  },
  {
   "cell_type": "code",
   "execution_count": 15,
   "metadata": {},
   "outputs": [
    {
     "name": "stdout",
     "output_type": "stream",
     "text": [
      "--------------------------------------------\n",
      "YRKKH_2800_5min\n",
      "Total frame number: 7525\n",
      "Blur frame number: 7297\n",
      "Min face area: 1360.9422217772808\n",
      "Face number per frame: 1.3050568726874059\n",
      "Average Face area: 0.05048994879763025\n",
      "Average Face pixel ratio: 0.9365381036018642\n",
      "Average Face binary pixel ratio: 0.9878139810257407\n",
      "[0.007291983199633654, 0.007511654078659073, 0.0075571395541101085, 0.007478696215063489, 0.007358148781683364, 0.007417097981405176, 0.007614034225908755, 0.007181029742044606, 0.007400831595411243, 0.007273717091949139, 0.0075135985719836955, 0.007269463859073666, 0.007386805887290393, 0.007133023542179823, 0.007465457182676497, 0.007410606474923043, 0.0076020055255958145, 0.0073183003697876205, 0.007294616532439653, 0.007596612165068816, 0.007053353756418801, 0.00785739720635724, 0.007384739677256422, 0.007892314293968007, 0.0072281970426047336, 0.007984797148310463, 0.007301080619769588, 0.00813319912967927, 0.00689710049991542, 0.00825163473421071, 0.007932293388071734, 0.008219802060923737, 0.007573152727501212, 0.008188443478532766, 0.00731654010960483, 0.008119843060285348, 0.006828424040751189, 0.007912598583379804, 0.006681386810899615, 0.007812308560751262, 0.007126119529928272, 0.007729793239943521, 0.007183840904274095, 0.00785741889774954, 0.007244663917283308, 0.007977350769070754, 0.006785593015678791, 0.008084613906450815, 0.006266109875520366, 0.008049975946194839, 0.006309836154954004, 0.008053905652195681, 0.006248211200991136, 0.00810667312611713, 0.008097944701203232, 0.0061112795401539995, 0.008170685693862147, 0.005785400718094833, 0.00805255316800463, 0.005640668039034911, 0.005399022036272072, 0.00788192313673335, 0.007912376682593782, 0.005396735519818523, 0.008030040194511609, 0.005131268150280448, 0.007943057176904, 0.004822521353667576, 0.0049257081959694915, 0.0078015572473886, 0.005443691721742046, 0.007695521851448777, 0.0049213526813279415, 0.007543504758515004, 0.005072844380710093, 0.007421421213691448, 0.007273724976494122, 0.00470311596793585, 0.007267881933234498, 0.004701786698812309, 0.007224823850065149, 0.004504692533493855, 0.007074387899635137, 0.004782496335499471, 0.006937576290382216, 0.00447169144824026, 0.007000128978625576, 0.005045529952088449, 0.0069999668864284105, 0.005057356266557286, 0.006901990915657229, 0.005074434961716179, 0.006951477712953722, 0.0049981917889150886, 0.0069457099508629955, 0.005039262276229945, 0.006947932853002688, 0.004846492434796043, 0.0069515928792626865, 0.005261070556828903, 0.006881340633754007, 0.005538404600535311, 0.006352118898946881, 0.006892674459275996, 0.006799252938880171, 0.006835051966234762, 0.006737611593925976, 0.0069704166436496155, 0.006608475805611912, 0.00695177686756324, 0.006948214111637046, 0.006633811122628686]\n",
      "Dance face mean area: 0.006892688212452874\n",
      "56\n",
      "[0.7442245794447876, 0.7838927384701887, 0.7808364644080764, 0.8674384216068153, 0.8402395173962334, 0.7270432625758324, 0.571339539829753, 0.28261593875390256, 0.3833290197884929, 0.14116902699639614, 0.1732238685773179, 0.033110633607753924, 0.0317436314931248, 0.037734665819161406, 0.056357250648958836, 0.04644296915260153, 0.029385671568426485, 0.021930483377045895, 0.036663842815693, 0.04179442069107506, 0.02294137700695985, 0.022127776933830397, 0.069554043614828, 0.09400926183160056, 0.10768175489955567, 0.08790134201709904, 0.07370693644596538, 0.22767703948426946, 0.07784212773619419, 0.12913367286115576, 0.06042885026155138, 0.0013452456206846204]\n",
      "Camera face mean ratio: 0.2376520429917291\n"
     ]
    }
   ],
   "source": [
    "# face related statistic\n",
    "import pickle\n",
    "import sys\n",
    "# savedStdout = sys.stdout\n",
    "video_names = ['YRKKH_2800_5min']#, 'SS_clip'] #'YRKKH_2699--20180722204822056--PG--2012', 'YHM_1530--20180724151448127--PG--2012', 'ISHQBAAZ_592--20180724214511411--PG--2012', 'KKBW_93--20180724010609002--PG--2012', 'YRKKH_2698--20180722045900125--PG--2012']\n",
    "bbox_conf_thr = 0.9\n",
    "\n",
    "def get_video_frame_num(video_names):\n",
    "    video_frame_nums = []\n",
    "    for video_name in video_names:\n",
    "        frame_dir = os.path.join('/home/bingyu/testsets/frames/', video_name)\n",
    "        video_frame_nums.append(len(os.listdir(frame_dir)))\n",
    "    return video_frame_nums\n",
    "\n",
    "video_frame_nums = get_video_frame_num(video_names)\n",
    "bbox_scale = 1080/360\n",
    "for i in range(len(video_names)):\n",
    "    # print_log = open(\"D:/facedet/\"+video_names[i]+'.txt',\"w\")\n",
    "    # sys.stdout = print_log\n",
    "    video_name = video_names[i]\n",
    "    print('--------------------------------------------')\n",
    "    print(video_name)\n",
    "    print('Total frame number: '+str(video_frame_nums[i]))\n",
    "    print('Blur frame number: '+ str(video_frame_nums[i]-len(video_noblur_frames[i])))\n",
    "    face_area_sum = 0\n",
    "    face_num_sum = 0\n",
    "    human_pixel_ratio = 0\n",
    "    human_binary_ratio = 0\n",
    "    min_face_area = 1920*1080\n",
    "    dance_face_area = []\n",
    "    camera_face_ratio = []\n",
    "    dance_thr_num = 0\n",
    "    with open(os.path.join('/home/bingyu/bingyu/',video_name+'_360p.pkl'), 'rb') as f:\n",
    "        face_det_result = pickle.load(f)\n",
    "        for frame_id in range(video_frame_nums[i]):\n",
    "            if frame_id not in video_noblur_frames[i]:\n",
    "                humanseg = cv2.imread(os.path.join(root_dir+'humanseg/'+video_name+'.mov/', str(frame_id+1).zfill(8)+'.png'))\n",
    "                humanseg = cv2.cvtColor(humanseg,cv2.COLOR_RGB2GRAY)\n",
    "                humanseg = humanseg/255.0\n",
    "                face_det_i = face_det_result[frame_id]\n",
    "                # face_num_sum += len(face_det_i[1])\n",
    "                frame_thr_num = 0\n",
    "                for j in range(len(face_det_i[1])):\n",
    "                    det = face_det_i[1][j]\n",
    "                    det = [deti*bbox_scale for deti in det]\n",
    "                    det_conf_score = face_det_i[2][j]\n",
    "                    if det_conf_score > bbox_conf_thr:\n",
    "                        face_num_sum += 1\n",
    "                        face_area = (det[3]-det[1])*(det[2]-det[0])\n",
    "                        face = humanseg[int(det[1]):int(det[3]), int(det[0]):int(det[2])]\n",
    "                        human_pixel_ratio += np.sum(face)/face_area\n",
    "                        human_binary_ratio += np.sum((face>0))/face_area\n",
    "                        face_area_sum += face_area/(1920*1080)\n",
    "                        if face_area < min_face_area:\n",
    "                            min_face_area = face_area\n",
    "                        if frame_id >=2469 and frame_id<=2500:\n",
    "                            camera_face_ratio += [np.sum(face)/face_area]\n",
    "                        if frame_id >= 1925 and frame_id <= 1980:\n",
    "                            dance_face_area += [(det[3]-det[1])*(det[2]-det[0])/(1920*1080)]\n",
    "                            if (det[3]-det[1])*(det[2]-det[0])/(1920*1080) < 0.008:\n",
    "                                frame_thr_num = 1\n",
    "                dance_thr_num += frame_thr_num\n",
    "    print(\"Min face area: \" + str(min_face_area))\n",
    "    print(\"Face number per frame: \" + str(face_num_sum/(video_frame_nums[i]-len(video_noblur_frames[i]))))\n",
    "    print(\"Average Face area: \" + str(face_area_sum/face_num_sum))\n",
    "    print(\"Average Face pixel ratio: \" + str(human_pixel_ratio/face_num_sum))\n",
    "    print(\"Average Face binary pixel ratio: \" + str(human_binary_ratio/face_num_sum))\n",
    "    print(dance_face_area)\n",
    "    print('Dance face mean area: ' + str(sum(dance_face_area)/len(dance_face_area)))\n",
    "    print(dance_thr_num)\n",
    "    print(camera_face_ratio)\n",
    "    print('Camera face mean ratio: ' + str(sum(camera_face_ratio)/len(camera_face_ratio)))\n",
    "    # print_log.close()"
   ]
  }
 ],
 "metadata": {
  "kernelspec": {
   "display_name": "Python 3.8.10 64-bit",
   "language": "python",
   "name": "python3"
  },
  "language_info": {
   "codemirror_mode": {
    "name": "ipython",
    "version": 3
   },
   "file_extension": ".py",
   "mimetype": "text/x-python",
   "name": "python",
   "nbconvert_exporter": "python",
   "pygments_lexer": "ipython3",
   "version": "3.6.9"
  },
  "orig_nbformat": 4,
  "vscode": {
   "interpreter": {
    "hash": "31f2aee4e71d21fbe5cf8b01ff0e069b9275f58929596ceb00d14d90e3e16cd6"
   }
  }
 },
 "nbformat": 4,
 "nbformat_minor": 2
}
